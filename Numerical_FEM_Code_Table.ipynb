{
 "cells": [
  {
   "cell_type": "code",
   "execution_count": 1,
   "id": "30b36d6d",
   "metadata": {},
   "outputs": [],
   "source": [
    "import numpy as np\n",
    "import matplotlib.pyplot as plt\n",
    "import pandas as pd"
   ]
  },
  {
   "cell_type": "code",
   "execution_count": 5,
   "id": "7986feeb",
   "metadata": {},
   "outputs": [],
   "source": [
    "## The Problem utilises 3 parts, thus n = 3\n",
    "## We need to create 3 local stiffness matrices and stack them into a Global Stiffness matrix.\n",
    "def create_stiffness(E,I,L):\n",
    "    k = E*I/(L**3)\n",
    "    \n",
    "    K = k*np.array(([12,6*L,-12,6*L,6*L,4*L*L,-6*L,2*L*L,-12,-6*L,12,-6*L,6*L,2*L*L,-6*L,4*L*L]))\n",
    "    K = K.reshape(4,4)\n",
    "    return K\n",
    "    \n",
    "\n",
    "def global_stiffness(n,set_E,set_I,set_L):\n",
    "    mat = np.zeros((2*n+2,2*n+2))\n",
    "    \n",
    "    for i in range(n):\n",
    "        start = 2*i\n",
    "        end = 2*i + 4\n",
    "        \n",
    "        #print(start,end)\n",
    "        E,I,L = set_E[i],set_I[i],set_L[i]\n",
    "        \n",
    "        mat[start:end,start:end] += create_stiffness(E, I, L)\n",
    "    \n",
    "    return mat\n",
    "\n",
    "def FEM(n,set_E,set_I,set_L,F):\n",
    "    '''\n",
    "    In the FEM Method we have 2 unknown forces, and the rest known for a cantilever.\n",
    "    For Deflections, the corresponding deflections are known to be 0.\n",
    "    Thus we can consider the m-2,m-2 matrix and invert it with the F vector to get\n",
    "    the unknown displacements which we require.\n",
    "    We are also returning The forces at the cantilever clamp.\n",
    "    '''\n",
    "    \n",
    "    known_load_vec = np.array((0,0,0,0,F,0,0,0)).reshape(8,1)\n",
    "    G = global_stiffness(n, set_E, set_I, set_L)\n",
    "    #print(np.shape(G))\n",
    "    G2 = G[2:10,2:10]\n",
    "    G_I = np.linalg.inv(G2)\n",
    "    \n",
    "    deflections = G_I@known_load_vec\n",
    "    \n",
    "    total_def = np.vstack((np.array((0,0)).reshape(2,1),deflections))\n",
    "    #print(total_def)\n",
    "    \n",
    "    f1y = G[0]@total_def\n",
    "    m1z = G[1]@total_def\n",
    "    \n",
    "    return total_def\n"
   ]
  },
  {
   "cell_type": "code",
   "execution_count": 7,
   "id": "491e1bb5",
   "metadata": {},
   "outputs": [
    {
     "name": "stdout",
     "output_type": "stream",
     "text": [
      "Max force that can be applied is 0.7000000000000001 Newtons\n"
     ]
    }
   ],
   "source": [
    "balloon_expansion = 25 # Found experimenatally\n",
    "limiting_val = min(100*np.sin(45),balloon_expansion)\n",
    "# Limiting Value is by using balloon as 2*pi*r*r and then taking inflation as r.\n",
    "set_I = [2.6666e4,2.6666e4,2.6666e4,2.6666e4]\n",
    "set_E = [1.32,0.3,1.32,1.32]\n",
    "set_L = [10,60,25,25]\n",
    "    \n",
    "def1 = []\n",
    "def2 = []\n",
    "def3 = []\n",
    "def4 = []\n",
    "f = []\n",
    "\n",
    "for t in range(1,50,1):\n",
    "    r = t*0.1\n",
    "    deflection = FEM(4,set_E,set_I,set_L,r)\n",
    "    \n",
    "    f.append(r)\n",
    "    def1.append(deflection[2])\n",
    "    def2.append(deflection[4])\n",
    "    def3.append(deflection[6])\n",
    "    def4.append(deflection[8])\n",
    "    k = (np.argmax(deflection))\n",
    "\n",
    "    if max(deflection[2],deflection[4],deflection[6],deflection[8]) >= limiting_val:\n",
    "        print('Max force that can be applied is',r,'Newtons')\n",
    "        break\n",
    "    \n",
    "    #print(np.argmax(deflection))\n",
    "    \n",
    "#f = range(1,20,1)"
   ]
  },
  {
   "cell_type": "code",
   "execution_count": 8,
   "id": "07d5dfaa",
   "metadata": {},
   "outputs": [
    {
     "data": {
      "image/png": "[encoded data removed]",
      "text/plain": [
       "<Figure size 432x288 with 1 Axes>"
      ]
     },
     "metadata": {
      "needs_background": "light"
     },
     "output_type": "display_data"
    }
   ],
   "source": [
    "plt.title('Force vs deflection at different Nodes')\n",
    "\n",
    "plt.plot(f,def1,c = 'r',label = 'Deflection at start of actuator')\n",
    "plt.plot(f,def2,c = 'b',label = 'Deflection at actuator end')\n",
    "plt.plot(f,def3,c = 'g',label = 'Deflection of Gecko patch ')\n",
    "plt.plot(f,def4,c = 'y',label = 'Deflection at the end of the limb')\n",
    "plt.xlabel('Force on simplified Cantilever')\n",
    "plt.ylabel('Different deflections')\n",
    "plt.legend()\n",
    "plt.show()"
   ]
  },
  {
   "cell_type": "code",
   "execution_count": 22,
   "id": "95941935",
   "metadata": {},
   "outputs": [],
   "source": [
    "Nodes = [(1,2),(2,3),(3,4),(4,5)]\n",
    "Elements = ['PDMS Strip','Actuator','Gecko Patch','End offset']\n",
    "table = pd.DataFrame({'Element':Elements,'Nodes':Nodes,'Lengths (mm)':set_L,'Young\\'s Modulus (MPa)':set_E ,'Moment of Interia of Element(mm^4)':set_I})\n"
   ]
  },
  {
   "cell_type": "code",
   "execution_count": 23,
   "id": "af55e857",
   "metadata": {
    "scrolled": true
   },
   "outputs": [
    {
     "data": {
      "text/html": [
       "<div>\n",
       "<style scoped>\n",
       "    .dataframe tbody tr th:only-of-type {\n",
       "        vertical-align: middle;\n",
       "    }\n",
       "\n",
       "    .dataframe tbody tr th {\n",
       "        vertical-align: top;\n",
       "    }\n",
       "\n",
       "    .dataframe thead th {\n",
       "        text-align: right;\n",
       "    }\n",
       "</style>\n",
       "<table border=\"1\" class=\"dataframe\">\n",
       "  <thead>\n",
       "    <tr style=\"text-align: right;\">\n",
       "      <th></th>\n",
       "      <th>Element</th>\n",
       "      <th>Nodes</th>\n",
       "      <th>Lengths (mm)</th>\n",
       "      <th>Young's Modulus (MPa)</th>\n",
       "      <th>Moment of Interia of Element(mm^4)</th>\n",
       "    </tr>\n",
       "  </thead>\n",
       "  <tbody>\n",
       "    <tr>\n",
       "      <th>0</th>\n",
       "      <td>PDMS Strip</td>\n",
       "      <td>(1, 2)</td>\n",
       "      <td>10</td>\n",
       "      <td>1.32</td>\n",
       "      <td>26666.0</td>\n",
       "    </tr>\n",
       "    <tr>\n",
       "      <th>1</th>\n",
       "      <td>Actuator</td>\n",
       "      <td>(2, 3)</td>\n",
       "      <td>60</td>\n",
       "      <td>0.30</td>\n",
       "      <td>26666.0</td>\n",
       "    </tr>\n",
       "    <tr>\n",
       "      <th>2</th>\n",
       "      <td>Gecko Patch</td>\n",
       "      <td>(3, 4)</td>\n",
       "      <td>25</td>\n",
       "      <td>1.32</td>\n",
       "      <td>26666.0</td>\n",
       "    </tr>\n",
       "    <tr>\n",
       "      <th>3</th>\n",
       "      <td>End offset</td>\n",
       "      <td>(4, 5)</td>\n",
       "      <td>25</td>\n",
       "      <td>1.32</td>\n",
       "      <td>26666.0</td>\n",
       "    </tr>\n",
       "  </tbody>\n",
       "</table>\n",
       "</div>"
      ],
      "text/plain": [
       "       Element   Nodes  Lengths (mm)  Young's Modulus (MPa)  \\\n",
       "0   PDMS Strip  (1, 2)            10                   1.32   \n",
       "1     Actuator  (2, 3)            60                   0.30   \n",
       "2  Gecko Patch  (3, 4)            25                   1.32   \n",
       "3   End offset  (4, 5)            25                   1.32   \n",
       "\n",
       "   Moment of Interia of Element(mm^4)  \n",
       "0                             26666.0  \n",
       "1                             26666.0  \n",
       "2                             26666.0  \n",
       "3                             26666.0  "
      ]
     },
     "execution_count": 23,
     "metadata": {},
     "output_type": "execute_result"
    }
   ],
   "source": [
    "table"
   ]
  },
  {
   "cell_type": "code",
   "execution_count": null,
   "id": "619e4d69",
   "metadata": {},
   "outputs": [],
   "source": []
  }
 ],
 "metadata": {
  "kernelspec": {
   "display_name": "Python 3",
   "language": "python",
   "name": "python3"
  },
  "language_info": {
   "codemirror_mode": {
    "name": "ipython",
    "version": 3
   },
   "file_extension": ".py",
   "mimetype": "text/x-python",
   "name": "python",
   "nbconvert_exporter": "python",
   "pygments_lexer": "ipython3",
   "version": "3.8.8"
  }
 },
 "nbformat": 4,
 "nbformat_minor": 5
}
